{
 "cells": [
  {
   "cell_type": "markdown",
   "metadata": {},
   "source": [
    "# Assignment 2\n",
    "\n",
    "\n",
    "In this assignment we will cover topics from the previous 3 lectures. We will cover the following topics:\n",
    "\n",
    "1) Training a simple Linear Model\n",
    "\n",
    "2) Implementing Modules with Backprop functionality\n",
    "\n",
    "3) Implementing Convolution Module on Numpy.\n",
    "\n",
    "4) Implement Dropout/Different Optimizer setups.\n",
    "\n",
    "5) Implementing Pool and Training on CIFAR10?\n",
    "\n",
    "\n",
    "It is crucial to get down to the nitty gritty of the code to implement all of these. No external packages (like caffe,pytorch etc), which directly give functions for these steps, are to be used. "
   ]
  },
  {
   "cell_type": "markdown",
   "metadata": {},
   "source": [
    "# Training a simple Linear Model\n",
    "\n",
    "In this section, you will write the code to train a Linear Model. The goal is to classify and input $x_n$ of size $n$ into one of $m$ classes. For this goal, you need to create the following parts:\n",
    "\n",
    "1) ** A weight Matrix $W_{n\\times m}$ **, where the Weights are multipled to the input $X_n$ (Vector of size $n$), to find $m$ scores $S_m$ for the $m$ classes.\n",
    "\n",
    "2) ** The Loss function **: We learnt two Kinds of Loss functions:\n",
    "  *  The Hinge Loss: This loss measures, for each sample, how many times were the wrong classes scored above correct class score - $\\Delta$ ? and by how much? This leads to the formulation:\n",
    "  \n",
    "$$\n",
    "L_i = \\sum_{j\\neq y_i} \\max(0, s_j - s_{y_i} + \\Delta)\n",
    "$$\n",
    "\n",
    "where $y_i$ is the correct class, and $s_j$ is the score for the $j$-th class (the $j$-th element of $S_m$)\n",
    "  \n",
    "  * The softmax Loss: By interpreting the scores as unnormalized log probabilities for each class, this loss tries to measure dissatisfaction with the scores in terms of the log probability of the right class:\n",
    "\n",
    "$$\n",
    "L_i = -\\log\\left(\\frac{e^{f_{y_i}}}{ \\sum_j e^{f_j} }\\right) \\hspace{0.5in} \\text{or equivalently} \\hspace{0.5in} L_i = -f_{y_i} + \\log\\sum_j e^{f_j}\n",
    "$$\n",
    "\n",
    "where $f_{ y_i }$ is the $i$-th element of the output of $W^T_{n \\times m} . X_m$\n",
    "\n",
    "4) ** Regularization term **: In addition to the loss, you need a Regularization term to lead to a more distributed( in case of $L_2$) or sparse (in case of $L_1$) learning of the weights. For example, and having $L_2$ regularization would imply that your loss has the following additional term:\n",
    "\n",
    "$$\n",
    "R(W) = \\sum_k\\sum_l W_{k,l}^2,\n",
    "$$\n",
    "\n",
    "making the total loss:\n",
    "$$\n",
    "L =  \\underbrace{ \\frac{1}{N} \\sum_i L_i }_\\text{data loss} + \\underbrace{ \\lambda R(W) }_\\text{regularization loss} \\\\\\\\\n",
    "$$\n",
    "\n",
    "3) ** An Optimization Procedure **: This refers to the process which tweaks the weight Matrix $W_{n\\times m}$ to reduce the loss function $L$. In our case, this refers to Mini-batch Gradient Descent algorithm. We adjust the weights $W_{n\\times m}$, based on the gradient of the loss $L$ w.r.t. $W_{n\\times m}$. This leads to:\n",
    "\n",
    "$$\n",
    "W_{t+1} = W_{t} + \\alpha \\frac{\\partial L}{\\partial W},\n",
    "$$\n",
    "where $\\alpha$ is the learning rate. Additionally, as we will be doing \"mini-batch\" gradient Descent, instead of finding loss over the whole dataset, we find it only for a small sample of the traning data for each learning step we take. Basically,\n",
    "$$\n",
    "W_{t+1} = W_{t} + \\alpha \\frac{\\partial \\sum^{b}{L_{x_i}}}{\\partial W},\n",
    "$$\n",
    "where, $b$ is the batch size."
   ]
  },
  {
   "cell_type": "markdown",
   "metadata": {},
   "source": [
    "# Question 1\n",
    "\n",
    "Train a **Single-Layer Classifier** for the MNIST dataset. Guidelines:\n",
    "* Use a loss of your choice.\n",
    "* Keep a validation split of the trainingset for finding the right value of $\\lambda$ for the regularization, and to check for over fitting.\n",
    "* Finally,evaluate the classification performance on the testset.\n"
   ]
  },
  {
   "cell_type": "code",
   "execution_count": 1,
   "metadata": {},
   "outputs": [
    {
     "name": "stdout",
     "output_type": "stream",
     "text": [
      "Loading 60000 images\n",
      "Sample Image\n"
     ]
    },
    {
     "data": {
      "image/png": "[encoded data removed]",
      "text/plain": [
       "<matplotlib.figure.Figure at 0x7f0b742a3ad0>"
      ]
     },
     "metadata": {},
     "output_type": "display_data"
    },
    {
     "name": "stdout",
     "output_type": "stream",
     "text": [
      "Training data and labels dimensions\n",
      "(60000, 784)\n",
      "(60000, 1)\n",
      "Loading 10000 images\n",
      "Sample Image\n"
     ]
    },
    {
     "data": {
      "image/png": "[encoded data removed]",
      "text/plain": [
       "<matplotlib.figure.Figure at 0x7f0b9051fb50>"
      ]
     },
     "metadata": {},
     "output_type": "display_data"
    },
    {
     "name": "stdout",
     "output_type": "stream",
     "text": [
      "Test data and labels dimensions\n",
      "(10000, 784)\n",
      "(10000, 1)\n"
     ]
    }
   ],
   "source": [
    "import struct as st\n",
    "import matplotlib.pyplot as plt\n",
    "import numpy as np\n",
    "## Load The Mnist data:\n",
    "# Download data from http://yann.lecun.com/exdb/mnist/\n",
    "# load the data.\n",
    "def loadMNISTimages(startN,howMany,trainRtest):\n",
    "    if (trainRtest == \"Train\"):\n",
    "        fImages = open('train-images.idx3-ubyte','rb')\n",
    "        fLabels = open('train-labels.idx1-ubyte','rb')\n",
    "    else:\n",
    "        fImages = open('t10k-images.idx3-ubyte','rb')\n",
    "        fLabels = open('t10k-labels.idx1-ubyte','rb')\n",
    "\n",
    "    # read the header information in the images file.\n",
    "    s1, s2, s3, s4 = fImages.read(4), fImages.read(4), fImages.read(4), fImages.read(4)\n",
    "    \n",
    "    num_images = st.unpack('>I',s2)[0] # Number of images (10K Testing, 60K for Training)\n",
    "    rowsIm = st.unpack('>I',s3)[0] # Number of pixels in each row of the image 28\n",
    "    colsIm = st.unpack('>I',s4)[0] # Number of pixels in each column of the image 28\n",
    "    \n",
    "    if (howMany == \"All\"):\n",
    "        howMany = num_images;\n",
    "    print(\"Loading %d images\"%(howMany))\n",
    "    # seek to the image we want to start on\n",
    "    # read the header information in the labels file and seek to position\n",
    "    # in the file for the image we want to start on.\n",
    "    fImages.seek(16+startN*rowsIm*colsIm)\n",
    "    fLabels.seek(8+startN)\n",
    "\n",
    "    T = []    \n",
    "    for im in range(0, howMany):\n",
    "        # get the input from the image file\n",
    "        x = []\n",
    "        for i in range(0, rowsIm*colsIm):\n",
    "            val = st.unpack('>B',fImages.read(1))[0]\n",
    "            x.append(val)\n",
    "        # get the correct label from the labels file.\n",
    "        val = st.unpack('>B',fLabels.read(1))[0]\n",
    "        T.append((x,val))\n",
    "            \n",
    "    fImages.close()\n",
    "    fLabels.close()\n",
    "    \n",
    "    x_train = np.zeros([howMany, rowsIm, colsIm])\n",
    "    y_train = np.zeros([howMany, 1], dtype = int)\n",
    "    for i in range(len(T)):\n",
    "        x = T[i]\n",
    "        x_train[i,:,:] = np.asarray(x[0]).reshape(28,28)\n",
    "        y_train[i] = int(x[1])\n",
    "    \n",
    "    print('Sample Image')\n",
    "    plt.figure()\n",
    "    plt.imshow(x_train[4,:,:], cmap = 'gray')\n",
    "    plt.title('Label : %d'%(y_train[4]))\n",
    "    plt.show()\n",
    "    return x_train, y_train\n",
    "\n",
    "N = 60000\n",
    "D = 28*28\n",
    "x_train1, y_train = loadMNISTimages(0,N,\"Train\")\n",
    "x_train = x_train1.reshape((N,D))\n",
    "\n",
    "# split the data into train, and valid\n",
    "num_train = int(N*0.8)\n",
    "num_val = int(N*0.2)\n",
    "x_tr = x_train[0:num_train]\n",
    "y_tr = y_train[0:num_train]\n",
    "x_val = x_train[num_train:N]\n",
    "y_val = y_train[num_train:N]\n",
    "print('Training data and labels dimensions')\n",
    "print(x_train.shape)\n",
    "print(y_train.shape)\n",
    "\n",
    "x_test1, y_test = loadMNISTimages(0,10000,\"Test\")\n",
    "x_test = x_test1.reshape((10000,D))\n",
    "print('Test data and labels dimensions')\n",
    "print(x_test.shape)\n",
    "print(y_test.shape)\n",
    "\n",
    "# Now a function, which returns a generator random mini-batch of the input data\n",
    "\n",
    "def get_minibatch_function(training_x, training_y, batch_size, shuffle = 1):\n",
    "    np.random.seed(0);\n",
    "    N = training_x.shape[0]\n",
    "    if shuffle ==1 :\n",
    "        indices = np.random.permutation(N)\n",
    "    if shuffle ==0 :\n",
    "        indices = np.arange(N)\n",
    "    #batch_size = 50\n",
    "    num_batches = int(N/batch_size)\n",
    "    def get_minibatch(training_x=training_x, training_y=training_y, batch_size=batch_size):\n",
    "        for i in range(num_batches):\n",
    "            mini_x = training_x[indices[np.arange(i*batch_size, (i+1)*batch_size,dtype=np.int32)]]\n",
    "            mini_y = training_y[indices[np.arange(i*batch_size, (i+1)*batch_size,dtype=np.int32)]]\n",
    "            yield mini_x,mini_y\n",
    "    return get_minibatch"
   ]
  },
  {
   "cell_type": "code",
   "execution_count": 2,
   "metadata": {
    "collapsed": true
   },
   "outputs": [],
   "source": [
    "# Define the class Single Layer Classifier\n",
    "class single_layer_classifier():\n",
    "    \n",
    "    def __init__(self, input_size, output_size):\n",
    "        # Give the instance a weight matrix, initialized randomly.\n",
    "        np.random.seed(100);\n",
    "        self.W = 0.01 * np.random.rand(input_size, output_size)\n",
    "        self.b = np.zeros((1,output_size))\n",
    "        #self.W = np.random.rand(input_size, output_size)\n",
    "        self.output_size = output_size\n",
    "        self.input_size = input_size\n",
    "        \n",
    "    def forward(self, input_x):\n",
    "        scores = np.dot(input_x, self.W) + self.b \n",
    "        scores = scores - np.max(scores)\n",
    "        self.input_x = input_x.reshape(1,self.input_size)\n",
    "        self.scores = scores\n",
    "        return scores\n",
    "    \n",
    "    # Similarly a backward function\n",
    "    # we define 2 backward functions (as Loss = L1 + L2, grad(Loss) = grad(L1) + grad(L2))\n",
    "    \n",
    "    def backward_from_loss(self, grad_from_loss):\n",
    "        # this function returns a matrix of the same size as the weights, \n",
    "        # where each element is the partial derivative of the loss w.r.t. the respective element of weight.\n",
    "        grad_matrix = np.dot(self.input_x.transpose(), grad_from_loss)\n",
    "        grad_b = np.sum(grad_from_loss, axis=0, keepdims=True)\n",
    "        return grad_matrix, grad_b\n",
    "        \n",
    "    def backward_from_l2(self):\n",
    "        # this function returns a matrix of the same size as the weights, \n",
    "        # where each element is the partial derivative of the regularization_term\n",
    "        # w.r.t. the respective element of weight.\n",
    "        grad_matrix = 2*self.W\n",
    "        return grad_matrix"
   ]
  },
  {
   "cell_type": "code",
   "execution_count": 3,
   "metadata": {
    "collapsed": true
   },
   "outputs": [],
   "source": [
    "# Now we need the loss functions,one which calculates the loss, \n",
    "# and one which give the backward gradient\n",
    "# Make any one of the suggested losses\n",
    "\n",
    "def loss_forward(input_y,scores):\n",
    "    exp_scores = np.exp(scores)\n",
    "    p_scores = exp_scores / np.sum(exp_scores, axis=1, keepdims=True)\n",
    "    #p_scores = np.exp(scores)/np.sum(np.exp(scores))\n",
    "    loss = -np.log(p_scores[0, input_y] + 0.0000001)\n",
    "    return loss\n",
    "\n",
    "def loss_backward(loss, scores, input_y):\n",
    "    exp_scores = np.exp(scores)\n",
    "    p_scores = exp_scores / np.sum(exp_scores, axis=1, keepdims=True)\n",
    "    grad_from_loss = p_scores\n",
    "    grad_from_loss[0,input_y] = grad_from_loss[0,input_y]-1\n",
    "    return grad_from_loss        "
   ]
  },
  {
   "cell_type": "code",
   "execution_count": 9,
   "metadata": {
    "collapsed": true
   },
   "outputs": [],
   "source": [
    "# Finally the trainer:\n",
    "\n",
    "# let it be for t iterations:\n",
    "def train_t_lambda(x_tr, y_tr, num_iterations,lambda_reg):\n",
    "    # make an instance of single_layer_classifier,\n",
    "    c1assifier = single_layer_classifier(D, 10)\n",
    "    lr1 = 1e-3\n",
    "    lr = lr1\n",
    "    tr_loss = []\n",
    "    val_loss = []\n",
    "    for t in range(num_iterations):\n",
    "        loss_t = 0\n",
    "        lr = lr1/((t)+1)\n",
    "        # get the mini-batch yielder.\n",
    "        train_batch_iter = get_minibatch_function(x_tr, y_tr, 100)\n",
    "        c = train_batch_iter()\n",
    "        for input_x, input_y in c:\n",
    "            dw1 = np.zeros(c1assifier.W.shape)\n",
    "            db = np.zeros((1,10))\n",
    "            ## Write code here for each iteration of training.\n",
    "            for i in range(input_x.shape[0]):\n",
    "                scores = c1assifier.forward(input_x[i])\n",
    "                data_loss = loss_forward(input_y[i],scores)\n",
    "                #reg_loss = lambda_reg*np.sum(c1assifier.W*c1assifier.W)\n",
    "                loss = data_loss\n",
    "                #loss = data_loss + reg_loss\n",
    "                loss_t = loss_t + loss\n",
    "                grad_from_loss = loss_backward(loss, scores, input_y[i])\n",
    "                dwx, dbx = c1assifier.backward_from_loss(grad_from_loss)\n",
    "                dw1 = dw1 +  dwx\n",
    "                db = db + dbx\n",
    "            dw2 = c1assifier.backward_from_l2()\n",
    "            c1assifier.W = c1assifier.W - (lr*(dw1+(lambda_reg*dw2)))\n",
    "            c1assifier.b = c1assifier.b - (lr*db)\n",
    "        #loss_v = validate(x_val, y_val, c1assifier)\n",
    "        loss_v = validate(c1assifier)\n",
    "        #print('Iteration %d, Training loss %.3f\\n'%(t,loss_t/y_tr.shape[0]))\n",
    "        tr_loss.append(loss_t/y_tr.shape[0])\n",
    "        val_loss.append(loss_v)\n",
    "    return c1assifier, tr_loss"
   ]
  },
  {
   "cell_type": "code",
   "execution_count": 5,
   "metadata": {
    "collapsed": true
   },
   "outputs": [],
   "source": [
    "# Find the performance on the validation set.\n",
    "# find the top-1 accuracy on the validation set.\n",
    "def validate(c1assifier, x_val = x_val, y_val = y_val):\n",
    "    val_batch_iter = get_minibatch_function(x_val, y_val, 100)\n",
    "    v_iter = val_batch_iter()\n",
    "#    num_correct = 0\n",
    "    loss = 0\n",
    "    for input_x, input_y in v_iter:\n",
    "        ## Write code here for each iteration of training.\n",
    "        for i in range(input_x.shape[0]):\n",
    "            scores = c1assifier.forward(input_x[i])\n",
    "            l = loss_forward(input_y[i],scores)\n",
    "            loss = loss+l\n",
    "    return loss/y_val.shape[0]\n",
    "\n",
    "def testing(x_val, y_val, c1assifier):\n",
    "    val_batch_iter = get_minibatch_function(x_val, y_val, 100, 0)\n",
    "    v_iter = val_batch_iter()\n",
    "    classifier_rslt = np.zeros(y_val.shape)\n",
    "#    num_correct = 0\n",
    "    ind = 0\n",
    "    for input_x, input_y in v_iter:\n",
    "        for i in range(input_x.shape[0]):\n",
    "            scores = c1assifier.forward(input_x[i])\n",
    "            #p_scores = np.exp(scores) / np.sum(np.exp(scores))\n",
    "            classifier_rslt[ind] = np.argmax(scores)\n",
    "            ind = ind+1\n",
    "    return classifier_rslt\n",
    "\n",
    "def calculate_accuracy(ground_truth, classifier_rslt):\n",
    "    top1_accuracy = 1.0*np.sum(ground_truth==classifier_rslt)/ground_truth.shape[0]\n",
    "    class_wise_acc = np.zeros([10,1])\n",
    "    for i in range(10):\n",
    "        class_wise_acc[i] = 1.0*np.sum(classifier_rslt[np.where(ground_truth==i)] == i)/np.sum(ground_truth==i)\n",
    "    return top1_accuracy,class_wise_acc"
   ]
  },
  {
   "cell_type": "code",
   "execution_count": 6,
   "metadata": {},
   "outputs": [
    {
     "name": "stdout",
     "output_type": "stream",
     "text": [
      "Regularization Parameter : 0.100000 :: Validation Accuracy : 90.14 percent\n",
      "Regularization Parameter : 0.400000 :: Validation Accuracy : 88.49 percent\n",
      "Regularization Parameter : 0.700000 :: Validation Accuracy : 90.34 percent\n",
      "Regularization Parameter : 0.010000 :: Validation Accuracy : 89.18 percent\n",
      "Regularization Parameter : 0.001000 :: Validation Accuracy : 89.59 percent\n",
      "Regularization Parameter : 0.000100 :: Validation Accuracy : 89.68 percent\n",
      "Regularization Parameter : 0.000010 :: Validation Accuracy : 89.86 percent\n"
     ]
    }
   ],
   "source": [
    "# now make a trainer function based on the above code, which trains for 't' iteration,\n",
    "# and returns the performance on the validation\n",
    "# Hyperparameter selection by cross validation\n",
    "reg_lambda = np.array([0.1, 0.4, 0.7, 0.01, 0.001, 0.0001, 0.00001])\n",
    "num_iter = 20\n",
    "for i in reg_lambda:\n",
    "    classifierr, tr_loss = train_t_lambda(x_tr, y_tr, 10,i)\n",
    "    t1 = testing(x_val, y_val, classifierr)\n",
    "    acc = calculate_accuracy(y_val, t1)\n",
    "    print(\"Regularization Parameter : %f :: Validation Accuracy : %.2f percent\"%(i, acc[0]*100))"
   ]
  },
  {
   "cell_type": "code",
   "execution_count": 8,
   "metadata": {},
   "outputs": [
    {
     "name": "stdout",
     "output_type": "stream",
     "text": [
      "Based on the performance of the classifier on the validation set, lambda is chosen as 0.1 and number of iterations as 20\n"
     ]
    }
   ],
   "source": [
    "# Find the optimal lambda and iterations t\n",
    "print('Based on the performance of the classifier on the validation set, lambda is chosen as 0.1 and number of iterations as %d'%(num_iter))"
   ]
  },
  {
   "cell_type": "code",
   "execution_count": 10,
   "metadata": {},
   "outputs": [
    {
     "name": "stdout",
     "output_type": "stream",
     "text": [
      "Iteration 0, Training loss 2.682\n",
      "\n",
      "Iteration 1, Training loss 1.703\n",
      "\n",
      "Iteration 2, Training loss 1.608\n",
      "\n",
      "Iteration 3, Training loss 1.565\n",
      "\n",
      "Iteration 4, Training loss 1.573\n",
      "\n",
      "Iteration 5, Training loss 1.535\n",
      "\n",
      "Iteration 6, Training loss 1.531\n",
      "\n",
      "Iteration 7, Training loss 1.535\n",
      "\n",
      "Iteration 8, Training loss 1.515\n",
      "\n",
      "Iteration 9, Training loss 1.527\n",
      "\n",
      "Iteration 10, Training loss 1.515\n",
      "\n",
      "Iteration 11, Training loss 1.520\n",
      "\n",
      "Iteration 12, Training loss 1.515\n",
      "\n",
      "Iteration 13, Training loss 1.501\n",
      "\n",
      "Iteration 14, Training loss 1.499\n",
      "\n",
      "Iteration 15, Training loss 1.512\n",
      "\n",
      "Iteration 16, Training loss 1.475\n",
      "\n",
      "Iteration 17, Training loss 1.487\n",
      "\n",
      "Iteration 18, Training loss 1.483\n",
      "\n",
      "Iteration 19, Training loss 1.469\n",
      "\n"
     ]
    },
    {
     "data": {
      "image/png": "[encoded data removed]",
      "text/plain": [
       "<matplotlib.figure.Figure at 0x7f0b90583050>"
      ]
     },
     "metadata": {},
     "output_type": "display_data"
    }
   ],
   "source": [
    "# Train on whole dataset with these values,(from scratch)\n",
    "# report final performance on mnist test set.\n",
    "# Train on whole dataset with these values,(from scratch)\n",
    "classifier_final, tr_loss  = train_t_lambda(x_train, y_train, 20,0.1)\n",
    "plt.plot(tr_loss)\n",
    "plt.xlabel(\"Iteration\")\n",
    "plt.ylabel(\"Training Loss\")\n",
    "plt.title(\"Loss in training iterations\")\n",
    "plt.show()"
   ]
  },
  {
   "cell_type": "code",
   "execution_count": 11,
   "metadata": {},
   "outputs": [
    {
     "name": "stdout",
     "output_type": "stream",
     "text": [
      "Top 1 accuracy on test set : 0.90\n",
      "ClassWise Accuracies :\n",
      "Class 0 : 0.95\n",
      "Class 1 : 0.96\n",
      "Class 2 : 0.91\n",
      "Class 3 : 0.89\n",
      "Class 4 : 0.92\n",
      "Class 5 : 0.88\n",
      "Class 6 : 0.92\n",
      "Class 7 : 0.89\n",
      "Class 8 : 0.81\n",
      "Class 9 : 0.85\n",
      "Class 1 is the best performing class with 0.96 accuracy.\n",
      "Class 8 is the worst performing class with 0.81 accuracy.\n"
     ]
    }
   ],
   "source": [
    "# report final performance on mnist test set.\n",
    "t1 = testing(x_test, y_test, classifier_final)\n",
    "acc = calculate_accuracy(y_test, t1)\n",
    "Top1Accuracy = acc[0]\n",
    "class_wise_accuracy = acc[1]\n",
    "print(\"Top 1 accuracy on test set : %.2f\"%Top1Accuracy)\n",
    "print(\"ClassWise Accuracies :\")\n",
    "for i in range(10):\n",
    "    print(\"Class %d : %.2f\"%(i,class_wise_accuracy[i]))\n",
    "# Find the best performing class and the worst performing class.\n",
    "print(\"Class %d is the best performing class with %.2f accuracy.\"%(np.argmax(class_wise_accuracy),np.max(class_wise_accuracy)))\n",
    "print(\"Class %d is the worst performing class with %.2f accuracy.\"%(np.argmin(class_wise_accuracy),np.min(class_wise_accuracy)))"
   ]
  },
  {
   "cell_type": "markdown",
   "metadata": {},
   "source": [
    "# Implementing Backprop\n",
    "\n",
    "Now that you have had some experience with single layer networks, its time to go to more complex architectures. But first we need to completely understand and implement backpropagation.\n",
    "\n",
    "## Backpropagation:\n",
    "\n",
    "Simple put, a way of computing gradients of expressions through recursive application of chain rule. If,\n",
    "$$\n",
    "L = f (g (h (\\textbf{x})))\n",
    "$$\n",
    "then,\n",
    "$$\n",
    "\\frac{\\partial L}{\\partial \\textbf{x}} = \\frac{\\partial f}{\\partial g} \\times \\frac{\\partial g}{\\partial h} \\times\\frac{\\partial h}{\\partial \\textbf{x}} \n",
    "$$\n",
    "\n",
    "** Look into the class Lecture for more detail **\n",
    "\n"
   ]
  },
  {
   "cell_type": "markdown",
   "metadata": {},
   "source": [
    "# Question 2 : Scalar Backpropagation\n",
    "\n",
    "Evaluate the gradient of the following functions w.r.t. the input.\n",
    "\n",
    "1) $$ f(x,y,z) =  log(\\sigma(\\frac{cos(\\pi \\times \\sigma(x))+sin(\\pi \\times \\sigma(y/2))}{z^2}))$$\n",
    "where $\\sigma$ is the sigmoid function. Find gradient for the following values:\n",
    "  * $(x,y,z)$ =  (1,2,3)\n",
    "  * $(x,y,z)$ =  (3,2,1)\n",
    "  * $(x,y,z)$ =  (12,23,31)\n",
    "  * $(x,y,z)$ =  (32,21,13)\n",
    "\n",
    "2) $$ f(x,y,z) = -tan(z) + exp(4x^2 + 3x + 10) - x^{y^z} $$\n",
    "where $\\exp$ is the exponential function. Find gradient for the following values:\n",
    "  * $(x,y,z)$ =  (-0.1 ,2 ,-3)\n",
    "  * $(x,y,z)$ =  (-3, 0.2,0.5)\n",
    "  * $(x,y,z)$ =  (1.2, -2.3, 3.1)\n",
    "  * $(x,y,z)$ =  (3.2, 2.1, -1.3)\n",
    "      "
   ]
  },
  {
   "cell_type": "code",
   "execution_count": 1,
   "metadata": {
    "collapsed": true
   },
   "outputs": [],
   "source": [
    "# To solve this problem, construct the computational graph (will help understanding the problem)(not part of assignment)\n",
    "# Write each component of the graph as a class, with forward and backward functions.        \n",
    "# CAUTION: Carefully treat the input and output dimension variation. At worst, handle them with if statements.\n",
    "# Similarly create the classes for various sub-parts/elements of the graph.\n",
    "import math\n",
    "class sigmoid():\n",
    "    def forward(self, inp):\n",
    "        result = 1 / (1+ math.exp(-inp))\n",
    "        # save values useful for backpropagation\n",
    "        self.result = result\n",
    "        return result\n",
    "    def backward(self, dresult):\n",
    "        dinp = self.result*(1 - self.result)*dresult\n",
    "        return dinp\n",
    "\n",
    "class multiplyByPi():\n",
    "    def forward(self, inp):\n",
    "        result = inp * math.pi\n",
    "        return result\n",
    "    def backward(self, dresult):\n",
    "        dinp = math.pi*dresult\n",
    "        return dinp\n",
    "\n",
    "class cos():\n",
    "    def forward(self, inp):\n",
    "        result = math.cos(inp)\n",
    "        self.inp = inp\n",
    "        return result\n",
    "    def backward(self, dresult):\n",
    "        dinp = -math.sin(self.inp)*dresult\n",
    "        return dinp\n",
    "\n",
    "class sin():\n",
    "    def forward(self, inp):\n",
    "        result = math.sin(inp)\n",
    "        self.inp = inp\n",
    "        return result\n",
    "    def backward(self, dresult):\n",
    "        dinp = math.cos(self.inp)*dresult\n",
    "        return dinp\n",
    "\n",
    "class divideBy2():\n",
    "    def forward(self, inp):\n",
    "        result = inp / 2\n",
    "        return result\n",
    "    def backward(self, dresult):\n",
    "        dinp = 0.5*dresult\n",
    "        return dinp\n",
    "\n",
    "class add2vars():\n",
    "    def forward(self, x, y):\n",
    "        result = x+y\n",
    "        return result\n",
    "    def backward(self, dresult):\n",
    "        return [dresult, dresult]\n",
    "\n",
    "class compute_square():\n",
    "    def forward(self, inp):\n",
    "        result = inp*inp\n",
    "        self.inp = inp\n",
    "        return result\n",
    "    def backward(self, dresult):\n",
    "        dinp = 2*self.inp*dresult\n",
    "        return dinp\n",
    "\n",
    "class divide2vars():\n",
    "    def forward(self, x, y):\n",
    "        result = x/y\n",
    "        self.x = x\n",
    "        self.y = y\n",
    "        return result\n",
    "    def backward(self, dresult):\n",
    "        dx = (1/self.y)*dresult\n",
    "        dy = -(dresult*self.x)/(self.y*self.y)\n",
    "        return [dx, dy]\n",
    "\n",
    "class compute_log():\n",
    "    def forward(self, inp):\n",
    "        result = math.log(inp)\n",
    "        self.inp = inp\n",
    "        return result\n",
    "    def backward(self, dresult):\n",
    "        dinp = dresult / self.inp\n",
    "        return dinp\n",
    "    \n",
    "class quadratic_fn():\n",
    "    def forward(self, a,b,c,x):\n",
    "        result = (a*x*x)+(b*x)+c\n",
    "        self.a = a\n",
    "        self.b = b\n",
    "        self.x = x\n",
    "        return result\n",
    "    def backward(self, dresult):\n",
    "        dx = dresult*( 2*self.a*self.x + self.b)\n",
    "        return dx\n",
    "\n",
    "class exponential_fn():\n",
    "    def forward(self, inp):\n",
    "        result = math.exp(inp)\n",
    "        self.result = result\n",
    "        return result\n",
    "    def backward(self, dresult):\n",
    "        dinp = dresult*self.result\n",
    "        return dinp\n",
    "\n",
    "class power_fn():\n",
    "    def forward(self, x, y):\n",
    "        result = pow(x, y)\n",
    "        self.x = x\n",
    "        self.y = y\n",
    "        return result\n",
    "    def backward(self, dresult):\n",
    "        dx = self.y * math.pow(self.x, self.y-1)*dresult\n",
    "        dy = math.pow(self.x, self.y) * math.log(self.x)*dresult\n",
    "        return [dx, dy]\n",
    "\n",
    "class negate_fn():\n",
    "    def forward(self, inp):\n",
    "        return -inp\n",
    "    def backward(self, dresult):\n",
    "        dinp = -dresult\n",
    "        return dinp\n",
    "\n",
    "class tan():\n",
    "    def forward(self, inp):\n",
    "        result = math.tan(inp)\n",
    "        self.inp = inp\n",
    "        return result\n",
    "    def backward(self, dresult):\n",
    "        sec_val = 1 / math.cos(self.inp)\n",
    "        dinp = math.pow(sec_val, 2)*dresult\n",
    "        return dinp\n",
    "\n",
    "class add3vars():\n",
    "    def forward(self, x, y, z):\n",
    "        result = x+y+z\n",
    "        return result\n",
    "    def backward(self, dresult):\n",
    "        return [dresult, dresult, dresult]"
   ]
  },
  {
   "cell_type": "code",
   "execution_count": 2,
   "metadata": {
    "collapsed": true
   },
   "outputs": [],
   "source": [
    "# Now write func_1_creator, \n",
    "# which constructs the graph(all operators), forward and backward functions.\n",
    "\n",
    "class func1():\n",
    "    def __init__(self):\n",
    "        # construct the graph here, \n",
    "        self.sigx = sigmoid()\n",
    "        self.mult_pi_x = multiplyByPi()\n",
    "        self.cos_fn = cos()\n",
    "        self.div2 = divideBy2()\n",
    "        self.sigy = sigmoid()\n",
    "        self.mult_pi_y = multiplyByPi()\n",
    "        self.sin_fn = sin()\n",
    "        self.add_fn = add2vars()\n",
    "        self.square_fn = compute_square()\n",
    "        self.div_fn = divide2vars()\n",
    "        self.sig_last = sigmoid()\n",
    "        self.log_fn = compute_log()\n",
    "        # assign the instances of function modules to self.var\n",
    "\n",
    "    def forward(self,x,y,z):\n",
    "        # Using the graph element's forward functions, get the output. \n",
    "        o1 = self.sigx.forward(x)\n",
    "        o2 = self.mult_pi_x.forward(o1)\n",
    "        o3 = self.cos_fn.forward(o2)\n",
    "        \n",
    "        o4 = self.div2.forward(y)\n",
    "        o5 = self.sigy.forward(o4)\n",
    "        o6 = self.mult_pi_y.forward(o5)\n",
    "        o7 = self.sin_fn.forward(o6)\n",
    "        \n",
    "        o8 = self.add_fn.forward(o3,o7)\n",
    "        \n",
    "        o9 = self.square_fn.forward(z)\n",
    "        o10 = self.div_fn.forward(o8, o9)\n",
    "        o11 = self.sig_last.forward(o10)\n",
    "        output = self.log_fn.forward(o11)\n",
    "        return output\n",
    "    \n",
    "    def backward(self):\n",
    "        # Use the saved outputs of each module, and backward() function calls\n",
    "        b11 = self.log_fn.backward(1)\n",
    "        b10 = self.sig_last.backward(b11)\n",
    "        b8, b9 = self.div_fn.backward(b10)\n",
    "        \n",
    "        grad_z = self.square_fn.backward(b9)\n",
    "        \n",
    "        b3, b7 = self.add_fn.backward(b8)\n",
    "        \n",
    "        b6 = self.sin_fn.backward(b7)\n",
    "        b5 = self.mult_pi_y.backward(b6)\n",
    "        b4 = self.sigy.backward(b5)\n",
    "        grad_y = self.div2.backward(b4)\n",
    "        \n",
    "        b2 = self.cos_fn.backward(b3)\n",
    "        b1 = self.mult_pi_x.backward(b2)\n",
    "        grad_x = self.sigx.backward(b1)\n",
    "        return [grad_x,grad_y,grad_z]\n",
    "    \n",
    "    \n",
    "class func2():\n",
    "    def __init__(self):\n",
    "        # construct the graph here, \n",
    "        self.quad = quadratic_fn()\n",
    "        self.exp_fn = exponential_fn()\n",
    "        self.pow_fn1 = power_fn()\n",
    "        self.pow_fn2 = power_fn()\n",
    "        self.neg1 = negate_fn()\n",
    "        self.tan_fn = tan()\n",
    "        self.neg2 = negate_fn()\n",
    "        self.add_fn = add3vars()\n",
    "\n",
    "        # assign the instances of function modules to self.var\n",
    "\n",
    "    def forward(self,x,y,z):\n",
    "        # Using the graph element's forward functions, get the output. \n",
    "        o1 = self.quad.forward(4, 3, 10, x)\n",
    "        o2 = self.exp_fn.forward(o1)\n",
    "        o3 = self.pow_fn1.forward(y, z)\n",
    "        \n",
    "        o4 = self.pow_fn2.forward(x, o3)\n",
    "        o5 = self.neg1.forward(o4)\n",
    "        o6 = self.tan_fn.forward(z)\n",
    "        o7 = self.neg2.forward(o6)\n",
    "        \n",
    "        output = self.add_fn.forward(o2,o5, o7)\n",
    "        return output\n",
    "    \n",
    "    def backward(self):\n",
    "        # Use the saved outputs of each module, and backward() function calls\n",
    "        b2, b5, b7 = self.add_fn.backward(1)\n",
    "        b6 = self.neg2.backward(b7)\n",
    "        grad_z1 = self.tan_fn.backward(b6)\n",
    "        \n",
    "        b4 = self.neg2.backward(b5)\n",
    "        grad_x2, b3 = self.pow_fn2.backward(b4)\n",
    "        grad_y, grad_z2 = self.pow_fn1.backward(b3)\n",
    "        \n",
    "        b1 = self.exp_fn.backward(b2)\n",
    "        grad_x1 = self.quad.backward(b1)\n",
    "        grad_x = grad_x1 + grad_x2\n",
    "        grad_z = grad_z1 + grad_z2\n",
    "        return [grad_x,grad_y,grad_z]"
   ]
  },
  {
   "cell_type": "code",
   "execution_count": 3,
   "metadata": {},
   "outputs": [
    {
     "name": "stdout",
     "output_type": "stream",
     "text": [
      "Function 1 : \n",
      " (x,y,z) = (1,2,3) : \n",
      " grad_x = -0.0255, grad_y = -0.0113, grad_z = -0.0031\n",
      "(x,y,z) = (3,2,1) : \n",
      " grad_x = -0.0118, grad_y = -0.1148, grad_z = 0.2699\n",
      "(x,y,z) = (12,23,31) : \n",
      " grad_x = -0.0000, grad_y = -0.0000, grad_z = 0.0000\n",
      "(x,y,z) = (32,21,13) : \n",
      " grad_x = -0.0000, grad_y = -0.0000, grad_z = 0.0005\n",
      "\n",
      " Function 2 : \n",
      " (x,y,z) = (0.1 ,2 ,3) : \n",
      " grad_x = 117594.9142, grad_y = 0.0000, grad_z = -1.0203\n",
      "(x,y,z) = (3, 0.2,0.5) : \n",
      " grad_x = 20775920215883446914908160.0000, grad_y = -2.0076, grad_z = -0.0060\n",
      "(x,y,z) = (1.2, 2.3, 3.1) : \n",
      " grad_x = 3223381419.7416, grad_y = -36.2164, grad_z = -23.3822\n",
      "(x,y,z) = (3.2, 2.1, 1.3) : \n",
      " grad_x = 5717943466907863855300345856.0000, grad_y = -39.9501, grad_z = -61.8560\n"
     ]
    }
   ],
   "source": [
    "f1 = func1()\n",
    "f1_op1 = f1.forward(1,2,3)\n",
    "grad_x11,grad_y11,grad_z11 = f1.backward()\n",
    "print(\"Function 1 : \\n (x,y,z) = (1,2,3) : \\n grad_x = %.4f, grad_y = %.4f, grad_z = %.4f\"%(grad_x11, grad_y11, grad_z11))\n",
    "f1_op2 = f1.forward(3,2,1)\n",
    "grad_x12,grad_y12,grad_z12 = f1.backward()\n",
    "print(\"(x,y,z) = (3,2,1) : \\n grad_x = %.4f, grad_y = %.4f, grad_z = %.4f\"%(grad_x12, grad_y12, grad_z12))\n",
    "f1_op3 = f1.forward(12,23,31)\n",
    "grad_x13,grad_y13,grad_z13 = f1.backward()\n",
    "print(\"(x,y,z) = (12,23,31) : \\n grad_x = %.4f, grad_y = %.4f, grad_z = %.4f\"%(grad_x13, grad_y13, grad_z13))\n",
    "f1_op4 = f1.forward(32,21,13)\n",
    "grad_x14,grad_y14,grad_z14 = f1.backward()\n",
    "print(\"(x,y,z) = (32,21,13) : \\n grad_x = %.4f, grad_y = %.4f, grad_z = %.4f\"%(grad_x14, grad_y14, grad_z14))\n",
    "\n",
    "f2 = func2()\n",
    "f2_op1 = f2.forward(0.1 ,2 ,3);\n",
    "grad_x21,grad_y21,grad_z21 = f2.backward()\n",
    "print(\"\\n Function 2 : \\n (x,y,z) = (0.1 ,2 ,3) : \\n grad_x = %.4f, grad_y = %.4f, grad_z = %.4f\"%(grad_x21, grad_y21, grad_z21))\n",
    "f2_op2 = f2.forward(3, 0.2,0.5);\n",
    "grad_x22,grad_y22,grad_z22 = f2.backward()\n",
    "print(\"(x,y,z) = (3, 0.2,0.5) : \\n grad_x = %.4f, grad_y = %.4f, grad_z = %.4f\"%(grad_x22, grad_y22, grad_z22))\n",
    "f2_op3 = f2.forward(1.2, 2.3, 3.1);\n",
    "grad_x23,grad_y23,grad_z23 = f2.backward()\n",
    "print(\"(x,y,z) = (1.2, 2.3, 3.1) : \\n grad_x = %.4f, grad_y = %.4f, grad_z = %.4f\"%(grad_x23, grad_y23, grad_z23))\n",
    "f2_op4 = f2.forward(3.2, 2.1, 1.3);\n",
    "grad_x24,grad_y24,grad_z24 = f2.backward()\n",
    "print(\"(x,y,z) = (3.2, 2.1, 1.3) : \\n grad_x = %.4f, grad_y = %.4f, grad_z = %.4f\"%(grad_x24, grad_y24, grad_z24))"
   ]
  },
  {
   "cell_type": "markdown",
   "metadata": {},
   "source": [
    "## Question 3 : Modular Vector Backpropagation\n",
    "\n",
    "* Construct a Linear Layer module, implementing the forward and backward functions for arbitrary sizes.\n",
    "* Construct a ReLU module, implementing the forward and backward functions for arbitrary sizes.\n",
    "* Create a 2 layer MLP using the constructed modules.\n",
    "\n",
    "* Modifying the functions built in Question 1 , train this two layer MLP for the same data set (MNIST)."
   ]
  },
  {
   "cell_type": "code",
   "execution_count": 12,
   "metadata": {
    "collapsed": true
   },
   "outputs": [],
   "source": [
    "# Some Functions in question1 are used. Hence Q1 solution before Q3\n",
    "\n",
    "# Class for Linear Layer (Refer code of pytorch/tensorflow package if required.) \n",
    "# Class for Linear Layer\n",
    "class linear_layer():\n",
    "    \n",
    "    def __init__(self, input_size, output_size):\n",
    "        # Give the instance a weight matrix, initialized randomly.\n",
    "        np.random.seed(0);\n",
    "        self.W = 0.01*np.random.rand(input_size, output_size)\n",
    "        self.output_size = output_size\n",
    "        self.input_size = input_size\n",
    "        \n",
    "    # Define the forward function\n",
    "    def forward(self, input_x):\n",
    "        # get the scores\n",
    "        scores = np.dot(input_x, self.W)\n",
    "        #scores = scores - np.max(scores)\n",
    "        self.input_x = input_x.reshape(1,self.input_size)\n",
    "        self.scores = scores\n",
    "        return scores\n",
    "    \n",
    "    # Similarly a backward function\n",
    "    # we define 2 backward functions (as Loss = L1 + L2, grad(Loss) = grad(L1) + grad(L2))\n",
    "    \n",
    "    def backward_from_loss(self, grad_from_loss):\n",
    "        # this function returns a matrix of the same size as the weights, \n",
    "        # where each element is the partial derivative of the loss w.r.t. the respective element of weight.\n",
    "        grad_W = np.dot(self.input_x.transpose(), grad_from_loss.transpose())\n",
    "        grad_inp = np.matmul(self.W, grad_from_loss)\n",
    "        return grad_W, grad_inp\n",
    "        \n",
    "    def backward_from_l2(self):\n",
    "        # this function returns a matrix of the same size as the weights, \n",
    "        # where each element is the partial derivative of the regularization_term\n",
    "        # w.r.t. the respective element of weight.\n",
    "        grad_matrix = 2*self.W\n",
    "        return grad_matrix"
   ]
  },
  {
   "cell_type": "code",
   "execution_count": 13,
   "metadata": {
    "collapsed": true
   },
   "outputs": [],
   "source": [
    "# Class for ReLU\n",
    "class re_lu_nonlinearity():\n",
    "\n",
    "    # Define the forward function\n",
    "    def forward(self, input_x):\n",
    "        output_x = np.maximum(0, input_x)\n",
    "        self.input_x = input_x\n",
    "        return output_x\n",
    "    \n",
    "    def backward(self, grad_from_loss):\n",
    "        grad_from_loss[np.where(self.input_x < 0)] = 0\n",
    "        return grad_from_loss"
   ]
  },
  {
   "cell_type": "code",
   "execution_count": 14,
   "metadata": {
    "collapsed": true
   },
   "outputs": [],
   "source": [
    "# Your 2 layer MLP \n",
    "class two_layer_MLP():\n",
    "    def __init__(self, input_size, hidden_layer_size, output_size):\n",
    "        self.l1 = linear_layer(input_size, hidden_layer_size)\n",
    "        self.re_lu = re_lu_nonlinearity()\n",
    "        self.l2 = linear_layer(hidden_layer_size, output_size)\n",
    "        self.input_size = input_size\n",
    "        self.hidden_layer_size = hidden_layer_size\n",
    "        self.output_size = output_size\n",
    "\n",
    "    # Define the forward function\n",
    "    def forward(self, input_x):\n",
    "        o1 = self.l1.forward(input_x)\n",
    "        h = self.re_lu.forward(o1)\n",
    "        o2 = self.l2.forward(h)\n",
    "        output_x = o2\n",
    "        self.input_x = input_x\n",
    "        return output_x\n",
    "    \n",
    "    def backward(self, grad_from_loss):\n",
    "        dl_do2 = grad_from_loss\n",
    "        dl_dw2, dh = self.l2.backward_from_loss(dl_do2)\n",
    "        do2_dh = dh\n",
    "        dh_do1 = self.re_lu.backward(do2_dh)\n",
    "        dl_dw1, x = self.l1.backward_from_loss(dh_do1)\n",
    "        return dl_dw1, dl_dw2\n",
    "    \n",
    "def loss_forward1(input_y,scores):\n",
    "    scores = (scores - np.max(scores)).reshape(10,1)\n",
    "    #exp_scores = np.exp(scores)\n",
    "    #p_scores = exp_scores / np.sum(exp_scores, axis=1, keepdims=True)\n",
    "    p_scores = np.exp(scores)/np.sum(np.exp(scores))\n",
    "    loss = -np.log(p_scores[input_y] + 0.0000001)\n",
    "    return loss\n",
    "\n",
    "def loss_backward1(loss, scores, input_y):\n",
    "    scores = (scores - np.max(scores)).reshape(10,1)\n",
    "    p_scores = np.exp(scores)/np.sum(np.exp(scores))\n",
    "    grad_from_loss = p_scores\n",
    "    grad_from_loss[input_y] = grad_from_loss[input_y]-1\n",
    "    return grad_from_loss"
   ]
  },
  {
   "cell_type": "code",
   "execution_count": 32,
   "metadata": {
    "collapsed": true
   },
   "outputs": [],
   "source": [
    "# Train the MLP\n",
    "def train_t_lambda(x_tr, y_tr, num_iterations, H_dim):\n",
    "    # make an instance of single_layer_classifier,\n",
    "    c1assifier = two_layer_MLP(D, H_dim, 10)\n",
    "    lr1 = 1e-5\n",
    "    lambda_reg = 0.0001\n",
    "    lr = lr1\n",
    "    tr_loss = []\n",
    "    val_loss = []\n",
    "    for t in range(num_iterations):\n",
    "        loss_t = 0\n",
    "        lr = lr1/((t)+1)\n",
    "        # get the mini-batch yielder.\n",
    "        train_batch_iter = get_minibatch_function(x_tr, y_tr, 100)\n",
    "        c = train_batch_iter()\n",
    "        for input_x, input_y in c:\n",
    "            dw1 = np.zeros(c1assifier.l1.W.shape)\n",
    "            dw2 = np.zeros(c1assifier.l2.W.shape)\n",
    "            ## Write code here for each iteration of training.\n",
    "            for i in range(input_x.shape[0]):\n",
    "                scores = c1assifier.forward(input_x[i])\n",
    "                data_loss = loss_forward1(input_y[i],scores)\n",
    "                #reg_loss = lambda_reg*np.sum(c1assifier.W*c1assifier.W)\n",
    "                loss = data_loss\n",
    "                #loss = data_loss + reg_loss\n",
    "                loss_t = loss_t + loss\n",
    "                grad_from_loss = loss_backward1(loss, scores, input_y[i])\n",
    "                dwl1, dwl2 = c1assifier.backward(grad_from_loss)\n",
    "                dw1 = dw1 +  dwl1\n",
    "                dw2 = dw2 +  dwl2\n",
    "            \n",
    "            dw1_reg = c1assifier.l1.backward_from_l2()\n",
    "            dw2_reg = c1assifier.l2.backward_from_l2()\n",
    "            c1assifier.l1.W = c1assifier.l1.W - (lr*(dw1+(lambda_reg*dw1_reg)))\n",
    "            c1assifier.l2.W = c1assifier.l2.W - (lr*(dw2+(lambda_reg*dw2_reg)))\n",
    "        tr_loss.append(loss_t)\n",
    "        #loss_v = validate(x_val, y_val, c1assifier)\n",
    "        loss_v = validate(c1assifier)\n",
    "        #if t%10 == 0:\n",
    "        print('Iteration %d, Training loss %.3f\\n'%(t,loss_t/y_tr.shape[0]))\n",
    "        tr_loss.append(loss_t/y_tr.shape[0])\n",
    "        val_loss.append(loss_v)\n",
    "    return c1assifier, tr_loss\n",
    "\n",
    "def validate(c1assifier, x_val = x_val, y_val = y_val):\n",
    "    val_batch_iter = get_minibatch_function(x_val, y_val, 100)\n",
    "    v_iter = val_batch_iter()\n",
    "    loss = 0\n",
    "    for input_x, input_y in v_iter:\n",
    "        ## Write code here for each iteration of training.\n",
    "        for i in range(input_x.shape[0]):\n",
    "            scores = c1assifier.forward(input_x[i])\n",
    "            l = loss_forward1(input_y[i],scores)\n",
    "            loss = loss+l\n",
    "    return loss/y_val.shape[0]"
   ]
  },
  {
   "cell_type": "code",
   "execution_count": 16,
   "metadata": {},
   "outputs": [
    {
     "name": "stdout",
     "output_type": "stream",
     "text": [
      "Iteration 0, Training loss 1.929, Validation Loss 1.421\n",
      "\n",
      "Iteration 1, Training loss 1.220, Validation Loss 0.975\n",
      "\n",
      "Iteration 2, Training loss 0.907, Validation Loss 0.805\n",
      "\n",
      "Iteration 3, Training loss 0.810, Validation Loss 0.755\n",
      "\n",
      "Iteration 4, Training loss 0.771, Validation Loss 0.730\n",
      "\n",
      "Iteration 5, Training loss 0.748, Validation Loss 0.714\n",
      "\n",
      "Iteration 6, Training loss 0.732, Validation Loss 0.704\n",
      "\n",
      "Iteration 7, Training loss 0.720, Validation Loss 0.696\n",
      "\n",
      "Iteration 8, Training loss 0.711, Validation Loss 0.689\n",
      "\n",
      "Iteration 9, Training loss 0.703, Validation Loss 0.682\n",
      "\n",
      "Iteration 10, Training loss 0.694, Validation Loss 0.674\n",
      "\n",
      "Iteration 11, Training loss 0.684, Validation Loss 0.666\n",
      "\n",
      "Iteration 12, Training loss 0.674, Validation Loss 0.657\n",
      "\n",
      "Iteration 13, Training loss 0.665, Validation Loss 0.649\n",
      "\n",
      "Iteration 14, Training loss 0.656, Validation Loss 0.642\n",
      "\n"
     ]
    }
   ],
   "source": [
    "# Validation Performance\n",
    "# Number of hidden neurons is chosen based on validation performance and complexity\n",
    "classifier_final, tr_loss  = train_t_lambda(x_tr, y_tr, 15,100)"
   ]
  },
  {
   "cell_type": "code",
   "execution_count": 34,
   "metadata": {},
   "outputs": [
    {
     "name": "stdout",
     "output_type": "stream",
     "text": [
      "Iteration 0, Training loss 1.818\n",
      "\n",
      "Iteration 1, Training loss 1.174\n",
      "\n",
      "Iteration 2, Training loss 0.781\n",
      "\n",
      "Iteration 3, Training loss 0.533\n",
      "\n",
      "Iteration 4, Training loss 0.467\n",
      "\n",
      "Iteration 5, Training loss 0.429\n",
      "\n",
      "Iteration 6, Training loss 0.408\n",
      "\n",
      "Iteration 7, Training loss 0.394\n",
      "\n",
      "Iteration 8, Training loss 0.383\n",
      "\n",
      "Iteration 9, Training loss 0.374\n",
      "\n",
      "Iteration 10, Training loss 0.367\n",
      "\n",
      "Iteration 11, Training loss 0.359\n",
      "\n",
      "Iteration 12, Training loss 0.353\n",
      "\n",
      "Iteration 13, Training loss 0.347\n",
      "\n",
      "Iteration 14, Training loss 0.342\n",
      "\n"
     ]
    }
   ],
   "source": [
    "#### Training\n",
    "classifier_final, tr_loss  = train_t_lambda(x_train, y_train, 15,100)"
   ]
  },
  {
   "cell_type": "code",
   "execution_count": 37,
   "metadata": {},
   "outputs": [
    {
     "name": "stdout",
     "output_type": "stream",
     "text": [
      "Top 1 accuracy on test set : 0.90\n",
      "ClassWise Accuracies :\n",
      "Class 0 : 0.97\n",
      "Class 1 : 0.98\n",
      "Class 2 : 0.90\n",
      "Class 3 : 0.89\n",
      "Class 4 : 0.91\n",
      "Class 5 : 0.79\n",
      "Class 6 : 0.92\n",
      "Class 7 : 0.92\n",
      "Class 8 : 0.84\n",
      "Class 9 : 0.88\n",
      "Class 1 is the best performing class with 0.98 accuracy.\n",
      "Class 5 is the worst performing class with 0.79 accuracy.\n"
     ]
    }
   ],
   "source": [
    "# Best Class and worst class performance.\n",
    "# report final performance on mnist test set.\n",
    "t1 = testing(x_test, y_test, classifier_final)\n",
    "acc = calculate_accuracy(y_test, t1)\n",
    "Top1Accuracy = acc[0]\n",
    "class_wise_accuracy = acc[1]\n",
    "print(\"Top 1 accuracy on test set : %.2f\"%Top1Accuracy)\n",
    "print(\"ClassWise Accuracies :\")\n",
    "for i in range(10):\n",
    "    print(\"Class %d : %.2f\"%(i,class_wise_accuracy[i]))\n",
    "# Find the best performing class and the worst performing class.\n",
    "print(\"Class %d is the best performing class with %.2f accuracy.\"%(np.argmax(class_wise_accuracy),np.max(class_wise_accuracy)))\n",
    "print(\"Class %d is the worst performing class with %.2f accuracy.\"%(np.argmin(class_wise_accuracy),np.min(class_wise_accuracy)))"
   ]
  },
  {
   "cell_type": "markdown",
   "metadata": {},
   "source": [
    "# After the lecture on Jan 31st.\n",
    "\n",
    "# Implementing Convolution Module on Numpy.\n",
    "\n",
    "* This topic will require you to implement the Convolution operation using Numpy.\n",
    "* You will implement <s>two</s> one methods of doing it, an intuitive <s>and an optimised</s> way.\n",
    "* <s>Additional operations like dropout, batch norms.</s>\n",
    "* We will use the created Module for interesting task like Blurring, Bilateral Filtering.\n",
    "* Finally, we create the Backprop for this.\n",
    "* <s>Train a Conv model for the same MNIST dataset. (can be a script based training, instead of having it in jupyter notebook.)</s>\n"
   ]
  },
  {
   "cell_type": "markdown",
   "metadata": {},
   "source": [
    "## Question 4\n",
    "\n",
    "<br>\n",
    "* Implement a naive Convolution module, with basic functionalities:\n",
    "  * kernel_size,padding, stride, dilation\n",
    "  \n",
    "* Test out the convolution layer created, by using it to do gaussian blurring on 10 random images of Cifar10 dataset\n",
    "\n",
    "* Bonus: Bilateral filtering can also be implemented using a 2-D convolution. Try bilateral filter for the space of (X,Y,Gray). (3D space, but not 3D conv), (no speed criteria), (Hint: You have multiple filters in each conv layer.)\n"
   ]
  },
  {
   "cell_type": "code",
   "execution_count": 38,
   "metadata": {
    "collapsed": true
   },
   "outputs": [],
   "source": [
    "import numpy as np\n",
    "import matplotlib.pyplot as plt\n",
    "class convolution_layer():\n",
    "    \n",
    "    def __init__(self, num_filters,filter_dim, pad, stride,in_depth=3):\n",
    "        ## Refer pytorch documentation/tensorflow documentation for the parameters for the layer.\n",
    "        ## Random initialization of the weights\n",
    "        np.random.seed(76);\n",
    "        self.W = np.random.rand(in_depth, filter_dim, filter_dim,num_filters)\n",
    "        self.out_channels = num_filters\n",
    "        self.filter_dim = filter_dim\n",
    "        self.pad = pad\n",
    "        self.stride = stride\n",
    "        self.in_depth = in_depth\n",
    "        \n",
    "    def forward(self,input):\n",
    "        # Input Proprocess(According to pad etc.) Input will be of size (Batch_size, in_channels, inp_height, inp_width)\n",
    "        # Reminder: Save Input for backward!\n",
    "        self.input = input\n",
    "        # Simple Conv operation:\n",
    "        # Loop over every location in inp_height * inp_width for the whole batch\n",
    "        \n",
    "        # Output will be of the size (Batch_size, out_channels, out_height, out_width)\n",
    "        Batch_size, in_channels, inp_height, inp_width = input.shape\n",
    "        out_height = (inp_height - self.filter_dim + (2*self.pad))+1\n",
    "        out_width = (inp_width - self.filter_dim + (2*self.pad))+1\n",
    "        output = np.zeros([Batch_size, self.out_channels, out_height, out_width])\n",
    "        for i in range(Batch_size):\n",
    "            in_im = input[i]\n",
    "            inp = np.zeros([in_channels, inp_height+(2*self.pad), inp_width+(2*self.pad)])\n",
    "            inp[:,self.pad:inp_height+self.pad, self.pad:inp_width+self.pad] = in_im\n",
    "            for ch in range(self.out_channels):\n",
    "                filter_W = self.W[:,:,:,ch]\n",
    "                for m in range(0, out_height):\n",
    "                    for n in range(0, out_width):\n",
    "                        output[i,ch,m,n] = np.sum(inp[:,m:m+self.filter_dim,n:n+self.filter_dim] * filter_W)\n",
    "        return output\n",
    "    \n",
    "    def backward(self, grad_of_output_size):\n",
    "        # Naive Implementation\n",
    "        # Speed is not a concern\n",
    "        # Hint: gradients from each independant operation can be summed\n",
    "        grad = np.zeros(self.W.shape)\n",
    "        Batch_size, in_channels, inp_height, inp_width = self.input.shape\n",
    "        out_height = (inp_height - self.filter_dim + (2*self.pad))+1\n",
    "        out_width = (inp_width - self.filter_dim + (2*self.pad))+1\n",
    "        for b in range(Batch_size):\n",
    "            in_im = self.input[b]\n",
    "            inp = np.zeros([in_channels, inp_height+(2*self.pad), inp_width+(2*self.pad)])\n",
    "            inp[:,self.pad:inp_height+self.pad, self.pad:inp_width+self.pad] = in_im\n",
    "            for fil in range(self.out_channels):\n",
    "                op_grad = grad_of_output_size[b,fil,:,:]\n",
    "                for ic in range(self.in_depth):\n",
    "                    for m in range(self.filter_dim):\n",
    "                        for n in range(self.filter_dim):\n",
    "                            grad[ic,m,n,fil] = np.sum(inp[ic, m:m+out_height, n:n+out_width]*op_grad)\n",
    "        return grad\n",
    "    \n",
    "    def set_weights(self, new_weights):\n",
    "        ## Replace the set of weights with the given 'new_weights'\n",
    "        ## use this for setting weights for blurring, bilateral filtering etc.\n",
    "        self.W = new_weights"
   ]
  },
  {
   "cell_type": "code",
   "execution_count": 43,
   "metadata": {},
   "outputs": [],
   "source": [
    "## get cifar images\n",
    "## get cifar images\n",
    "def unpickle(file):\n",
    "    import cPickle\n",
    "    with open(file, 'rb') as fo:\n",
    "        dict = cPickle.load(fo)\n",
    "    return dict\n",
    "\n",
    "def load_images():\n",
    "    dataset_file = 'test_batch'\n",
    "    xx = unpickle(dataset_file)\n",
    "    data1 = xx[b'data']\n",
    "    #label = xx[b'labels']\n",
    "    N = 10\n",
    "    data = data1[0:N,:]\n",
    "    test_data = data.reshape(N,3,32,32).transpose(0,2,3,1)\n",
    "    return test_data\n",
    "\n",
    "test_data = load_images()\n",
    "test_data1 = test_data.transpose(0,3,1,2)"
   ]
  },
  {
   "cell_type": "code",
   "execution_count": 44,
   "metadata": {
    "collapsed": true
   },
   "outputs": [],
   "source": [
    "## Initialize a conv layer. Set weights for gaussian blurring\n",
    "def generate_gaussian_mask(shape, sigma):\n",
    "    ax = np.arange(-shape // 2 + 1., shape // 2 + 1.)\n",
    "    #ax = np.arange(shape)\n",
    "    xx, yy = np.meshgrid(ax, ax)\n",
    "\n",
    "    kernel = np.exp(-(xx**2 + yy**2) / (2. * sigma**2))\n",
    "\n",
    "    return kernel/(2*np.pi)\n",
    "\n",
    "## Initialize a conv layer. Set weights for gaussian blurring\n",
    "filter_size = 7\n",
    "num_filters = 3\n",
    "stride = 1\n",
    "pad = 3\n",
    "\n",
    "c_layer = convolution_layer(num_filters,filter_size, pad, stride)\n",
    "W_gauss = generate_gaussian_mask(filter_size,1)\n",
    "guassian_blur_kernel = np.zeros([3, filter_size,filter_size,num_filters])\n",
    "guassian_blur_kernel[0,:,:,0] = W_gauss\n",
    "guassian_blur_kernel[1,:,:,1] = W_gauss\n",
    "guassian_blur_kernel[2,:,:,2] = W_gauss\n",
    "\n",
    "c_layer.set_weights(guassian_blur_kernel)\n",
    "\n",
    "## generate output.\n",
    "output = c_layer.forward(test_data1)\n",
    "op = output.transpose(0,2,3,1)\n",
    "op1 = np.array(op, dtype = 'uint8')"
   ]
  },
  {
   "cell_type": "code",
   "execution_count": 45,
   "metadata": {},
   "outputs": [
    {
     "data": {
      "image/png": "[encoded data removed]",
      "text/plain": [
       "<matplotlib.figure.Figure at 0x7f0b53396fd0>"
      ]
     },
     "metadata": {},
     "output_type": "display_data"
    },
    {
     "data": {
      "image/png": "[encoded data removed]",
      "text/plain": [
       "<matplotlib.figure.Figure at 0x7f0b6cfee050>"
      ]
     },
     "metadata": {},
     "output_type": "display_data"
    },
    {
     "data": {
      "image/png": "[encoded data removed]",
      "text/plain": [
       "<matplotlib.figure.Figure at 0x7f0b6d0fc710>"
      ]
     },
     "metadata": {},
     "output_type": "display_data"
    },
    {
     "data": {
      "image/png": "[encoded data removed]",
      "text/plain": [
       "<matplotlib.figure.Figure at 0x7f0b6d0caa10>"
      ]
     },
     "metadata": {},
     "output_type": "display_data"
    },
    {
     "data": {
      "image/png": "[encoded data removed]",
      "text/plain": [
       "<matplotlib.figure.Figure at 0x7f0b6d0fc750>"
      ]
     },
     "metadata": {},
     "output_type": "display_data"
    },
    {
     "data": {
      "image/png": "[encoded data removed]",
      "text/plain": [
       "<matplotlib.figure.Figure at 0x7f0b52a33250>"
      ]
     },
     "metadata": {},
     "output_type": "display_data"
    },
    {
     "data": {
      "image/png": "[encoded data removed]",
      "text/plain": [
       "<matplotlib.figure.Figure at 0x7f0b529e0f10>"
      ]
     },
     "metadata": {},
     "output_type": "display_data"
    },
    {
     "data": {
      "image/png": "[encoded data removed]",
      "text/plain": [
       "<matplotlib.figure.Figure at 0x7f0b52936710>"
      ]
     },
     "metadata": {},
     "output_type": "display_data"
    },
    {
     "data": {
      "image/png": "[encoded data removed]",
      "text/plain": [
       "<matplotlib.figure.Figure at 0x7f0b5284c450>"
      ]
     },
     "metadata": {},
     "output_type": "display_data"
    },
    {
     "data": {
      "image/png": "[encoded data removed]",
      "text/plain": [
       "<matplotlib.figure.Figure at 0x7f0b5283cd50>"
      ]
     },
     "metadata": {},
     "output_type": "display_data"
    },
    {
     "data": {
      "image/png": "[encoded data removed]",
      "text/plain": [
       "<matplotlib.figure.Figure at 0x7f0b5274fd50>"
      ]
     },
     "metadata": {},
     "output_type": "display_data"
    },
    {
     "data": {
      "image/png": "[encoded data removed]",
      "text/plain": [
       "<matplotlib.figure.Figure at 0x7f0b526cc9d0>"
      ]
     },
     "metadata": {},
     "output_type": "display_data"
    },
    {
     "data": {
      "image/png": "[encoded data removed]",
      "text/plain": [
       "<matplotlib.figure.Figure at 0x7f0b5265f810>"
      ]
     },
     "metadata": {},
     "output_type": "display_data"
    },
    {
     "data": {
      "image/png": "[encoded data removed]",
      "text/plain": [
       "<matplotlib.figure.Figure at 0x7f0b525d4450>"
      ]
     },
     "metadata": {},
     "output_type": "display_data"
    },
    {
     "data": {
      "image/png": "[encoded data removed]",
      "text/plain": [
       "<matplotlib.figure.Figure at 0x7f0b52566190>"
      ]
     },
     "metadata": {},
     "output_type": "display_data"
    },
    {
     "data": {
      "image/png": "[encoded data removed]",
      "text/plain": [
       "<matplotlib.figure.Figure at 0x7f0b6d1376d0>"
      ]
     },
     "metadata": {},
     "output_type": "display_data"
    },
    {
     "data": {
      "image/png": "[encoded data removed]",
      "text/plain": [
       "<matplotlib.figure.Figure at 0x7f0b6ced3d10>"
      ]
     },
     "metadata": {},
     "output_type": "display_data"
    },
    {
     "data": {
      "image/png": "[encoded data removed]",
      "text/plain": [
       "<matplotlib.figure.Figure at 0x7f0b6d676dd0>"
      ]
     },
     "metadata": {},
     "output_type": "display_data"
    },
    {
     "data": {
      "image/png": "[encoded data removed]",
      "text/plain": [
       "<matplotlib.figure.Figure at 0x7f0b6d6a2290>"
      ]
     },
     "metadata": {},
     "output_type": "display_data"
    },
    {
     "data": {
      "image/png": "[encoded data removed]",
      "text/plain": [
       "<matplotlib.figure.Figure at 0x7f0b53468790>"
      ]
     },
     "metadata": {},
     "output_type": "display_data"
    }
   ],
   "source": [
    "## use matplotlib.pyplot to show the results.\n",
    "for i in range(10):\n",
    "    plt.figure()\n",
    "    plt.imshow(test_data[i])\n",
    "    plt.title('Original Image %d '%i)\n",
    "    plt.figure()\n",
    "    plt.imshow(op1[i])\n",
    "    plt.title('Blurred Image %d'%i)\n",
    "plt.show()"
   ]
  },
  {
   "cell_type": "markdown",
   "metadata": {},
   "source": [
    "## Question 5\n",
    "<br>\n",
    "Now we will use the created layer for training a simple Convolution Layer. \n",
    "\n",
    "* The goal is to make it learn a set of weights, by using the backpropagation function created. To test the backpropagation, instead of training a whole network, we will train only a single layer.\n",
    "  * Take 100 cifar10 images. Generate a numpy array of size (20,3,5,5), with samples from uniform distribution (-1,1).Initialize a Convolution layer with 20 5$\\times$5 kernels(input size 3) and set the generated weights as the layer weights. Save the output of these 100 images from this Convolution layer. \n",
    "  \n",
    "  * Now, initialize a new convolution layer, and use $L_2$ loss between the output of the network and the output generated in the previous step to get the same set of weights as the ones generated in the previous step.\n"
   ]
  },
  {
   "cell_type": "code",
   "execution_count": 47,
   "metadata": {},
   "outputs": [],
   "source": [
    "import numpy as np\n",
    "import matplotlib.pyplot as plt\n",
    "\n",
    "## get cifar images\n",
    "def unpickle(file):\n",
    "    import cPickle\n",
    "    with open(file, 'rb') as fo:\n",
    "        dict = cPickle.load(fo)\n",
    "    return dict\n",
    "\n",
    "def load_images():\n",
    "    dataset_file = 'test_batch'\n",
    "    xx = unpickle(dataset_file)\n",
    "    data1 = xx[b'data']\n",
    "    #label = xx[b'labels']\n",
    "    N = 100\n",
    "    data = data1[0:N,:]\n",
    "    test_data = data.reshape(N,3,32,32).transpose(0,2,3,1)\n",
    "    return test_data\n",
    "\n",
    "test_data = load_images()\n",
    "test_data1 = test_data.transpose(0,3,1,2)\n",
    "\n",
    "## First generate the random weight vector\n",
    "np.random.seed(1994);\n",
    "W = 2*np.random.rand(3,5,5,20) - 1\n",
    "\n",
    "## Init a conv layer with these weights\n",
    "num_filters = 20\n",
    "filter_size = 5\n",
    "pad = 2\n",
    "stride = 0\n",
    "conv_layer = convolution_layer(num_filters,filter_size, pad, stride)\n",
    "conv_layer.set_weights(W)\n",
    "\n",
    "## For all images get output. Store in numpy array.\n",
    "output = conv_layer.forward(test_data1)"
   ]
  },
  {
   "cell_type": "code",
   "execution_count": 49,
   "metadata": {
    "scrolled": true
   },
   "outputs": [
    {
     "name": "stdout",
     "output_type": "stream",
     "text": [
      "Iteration 0 , Batch 0 : Loss : 2933486.082462\n",
      "Iteration 0 , Batch 1 : Loss : 2776752.143716\n",
      "Iteration 0 , Batch 2 : Loss : 2427076.155411\n",
      "Iteration 0 , Batch 3 : Loss : 2568026.500303\n",
      "Iteration 0 , Batch 4 : Loss : 2524808.109759\n",
      "Iteration 1 , Batch 0 : Loss : 2104245.732764\n",
      "Iteration 1 , Batch 1 : Loss : 1965871.805846\n",
      "Iteration 1 , Batch 2 : Loss : 1684436.611397\n",
      "Iteration 1 , Batch 3 : Loss : 1741657.643183\n",
      "Iteration 1 , Batch 4 : Loss : 1606102.005613\n",
      "Iteration 2 , Batch 0 : Loss : 1279223.160719\n",
      "Iteration 2 , Batch 1 : Loss : 1160114.653158\n",
      "Iteration 2 , Batch 2 : Loss : 947459.584106\n",
      "Iteration 2 , Batch 3 : Loss : 923086.260827\n",
      "Iteration 2 , Batch 4 : Loss : 701706.227332\n",
      "Iteration 3 , Batch 0 : Loss : 476450.696737\n",
      "Iteration 3 , Batch 1 : Loss : 386451.585930\n",
      "Iteration 3 , Batch 2 : Loss : 257375.013144\n",
      "Iteration 3 , Batch 3 : Loss : 196636.100440\n",
      "Iteration 3 , Batch 4 : Loss : 169437.324787\n",
      "Iteration 4 , Batch 0 : Loss : 144341.234700\n",
      "Iteration 4 , Batch 1 : Loss : 146697.057416\n",
      "Iteration 4 , Batch 2 : Loss : 128371.920268\n",
      "Iteration 4 , Batch 3 : Loss : 136179.595427\n",
      "Iteration 4 , Batch 4 : Loss : 138477.463134\n",
      "Iteration 5 , Batch 0 : Loss : 132873.164590\n",
      "Iteration 5 , Batch 1 : Loss : 134848.568109\n",
      "Iteration 5 , Batch 2 : Loss : 117340.030945\n",
      "Iteration 5 , Batch 3 : Loss : 124371.346933\n",
      "Iteration 5 , Batch 4 : Loss : 126966.112648\n",
      "Iteration 6 , Batch 0 : Loss : 123334.655275\n",
      "Iteration 6 , Batch 1 : Loss : 124585.392312\n",
      "Iteration 6 , Batch 2 : Loss : 107991.994454\n",
      "Iteration 6 , Batch 3 : Loss : 114348.393966\n",
      "Iteration 6 , Batch 4 : Loss : 117566.869777\n",
      "Iteration 7 , Batch 0 : Loss : 115882.425697\n",
      "Iteration 7 , Batch 1 : Loss : 115977.712972\n",
      "Iteration 7 , Batch 2 : Loss : 100323.262883\n",
      "Iteration 7 , Batch 3 : Loss : 106065.167429\n",
      "Iteration 7 , Batch 4 : Loss : 110324.982080\n",
      "Iteration 8 , Batch 0 : Loss : 110511.001926\n",
      "Iteration 8 , Batch 1 : Loss : 108856.687531\n",
      "Iteration 8 , Batch 2 : Loss : 94189.971544\n",
      "Iteration 8 , Batch 3 : Loss : 99366.390865\n",
      "Iteration 8 , Batch 4 : Loss : 105165.346274\n",
      "Iteration 9 , Batch 0 : Loss : 107047.107429\n",
      "Iteration 9 , Batch 1 : Loss : 103000.960525\n",
      "Iteration 9 , Batch 2 : Loss : 89344.180093\n",
      "Iteration 9 , Batch 3 : Loss : 94011.405531\n",
      "Iteration 9 , Batch 4 : Loss : 101871.208088\n",
      "Iteration 10 , Batch 0 : Loss : 105096.048811\n",
      "Iteration 10 , Batch 1 : Loss : 98180.422709\n",
      "Iteration 10 , Batch 2 : Loss : 85498.931751\n",
      "Iteration 10 , Batch 3 : Loss : 89722.156067\n",
      "Iteration 10 , Batch 4 : Loss : 100118.013023\n",
      "Iteration 11 , Batch 0 : Loss : 104121.563379\n",
      "Iteration 11 , Batch 1 : Loss : 94171.909009\n",
      "Iteration 11 , Batch 2 : Loss : 82389.909626\n",
      "Iteration 11 , Batch 3 : Loss : 86235.234583\n",
      "Iteration 11 , Batch 4 : Loss : 99565.441572\n",
      "Iteration 12 , Batch 0 : Loss : 103615.991987\n",
      "Iteration 12 , Batch 1 : Loss : 90766.259781\n",
      "Iteration 12 , Batch 2 : Loss : 79806.109197\n",
      "Iteration 12 , Batch 3 : Loss : 83335.128938\n",
      "Iteration 12 , Batch 4 : Loss : 99931.689941\n",
      "Iteration 13 , Batch 0 : Loss : 103205.562619\n",
      "Iteration 13 , Batch 1 : Loss : 87783.981866\n",
      "Iteration 13 , Batch 2 : Loss : 77591.989155\n",
      "Iteration 13 , Batch 3 : Loss : 80862.116619\n",
      "Iteration 13 , Batch 4 : Loss : 101006.744788\n",
      "Iteration 14 , Batch 0 : Loss : 102654.625084\n",
      "Iteration 14 , Batch 1 : Loss : 85086.850611\n",
      "Iteration 14 , Batch 2 : Loss : 75636.736663\n",
      "Iteration 14 , Batch 3 : Loss : 78704.024213\n",
      "Iteration 14 , Batch 4 : Loss : 102629.080204\n"
     ]
    },
    {
     "data": {
      "image/png": "[encoded data removed]",
      "text/plain": [
       "<matplotlib.figure.Figure at 0x7f0b6d64f9d0>"
      ]
     },
     "metadata": {},
     "output_type": "display_data"
    }
   ],
   "source": [
    "# for part 2 we need to write a small L2 layer\n",
    "class L2_loss():\n",
    "    \n",
    "    def forward(self, inp_1,inp_2):\n",
    "        # input is of dimestion(batch,channels,h,w)\n",
    "        # calculate the l2 norm of inp_1 - inp_2 .,\n",
    "        batch,channels,h,w = inp_1.shape\n",
    "        diff = inp_1 - inp_2\n",
    "        diff_sq = diff*diff\n",
    "        se = np.sum(diff_sq)\n",
    "        output = np.sqrt(se)\n",
    "        self.diff = diff\n",
    "        self.output = output\n",
    "        return output\n",
    "    \n",
    "    def backward(self,output_grad):\n",
    "        # from the loss, and the input, get the grad at each location of the input.\n",
    "        # The grad is of the shape (batch,channels,h,w)\n",
    "        grad = output_grad*(self.diff / self.output)\n",
    "        return grad\n",
    "\n",
    "# Now Init a new conv layer and a L2 loss layer\n",
    "conv_layer_new = convolution_layer(num_filters,filter_size, pad, stride)\n",
    "l2_layer = L2_loss()\n",
    "\n",
    "# Train the new conv-layer using the L2 loss to get the earlier set of generated weights.\n",
    "# Use batches.\n",
    "lr = 1e-4\n",
    "batch_size = 20\n",
    "num_batches = int(100 / batch_size)\n",
    "num_iter = 15\n",
    "cost = []\n",
    "for i in range(num_iter):\n",
    "    loss_iter = 0\n",
    "    for b in range(num_batches):\n",
    "        data = test_data1[b*batch_size:(b+1)*batch_size]\n",
    "        actual = output[b*batch_size:(b+1)*batch_size]\n",
    "        op = conv_layer_new.forward(data)\n",
    "        loss = l2_layer.forward(op, actual)\n",
    "        loss_iter = loss_iter + loss\n",
    "        dL_Do = l2_layer.backward(1)\n",
    "        dW = conv_layer_new.backward(dL_Do)\n",
    "        print(\"Iteration %d , Batch %d : Loss : %f\"%(i,b,loss))\n",
    "        conv_layer_new.W = conv_layer_new.W - (lr * dW)\n",
    "    cost.append(loss_iter)\n",
    "    \n",
    "plt.plot(cost)\n",
    "plt.xlabel(\"Iteration\")\n",
    "plt.ylabel(\"Training Loss\")\n",
    "plt.title(\"Loss in training iterations\")\n",
    "plt.show()\n",
    "\n",
    "# Print L2 dist between output from new convolution layer and the outputs generated initially.\n",
    "output1 = conv_layer_new.forward(test_data1)\n",
    "rslt = l2_layer.forward(output, output1)"
   ]
  },
  {
   "cell_type": "code",
   "execution_count": 53,
   "metadata": {},
   "outputs": [
    {
     "name": "stdout",
     "output_type": "stream",
     "text": [
      "L2 diatance between output from new convolution layer and the actuals is 226510.510\n",
      "Average L2 diatance between output from new convolution layer and the actuals is 2265.105\n"
     ]
    }
   ],
   "source": [
    "print(\"L2 diatance between output from new convolution layer and the actuals is %.3f\"%rslt)\n",
    "print(\"Average L2 diatance between output from new convolution layer and the actuals is %.3f\"%(rslt/100.0))"
   ]
  }
 ],
 "metadata": {
  "anaconda-cloud": {},
  "kernelspec": {
   "display_name": "Python 2",
   "language": "python",
   "name": "python2"
  },
  "language_info": {
   "codemirror_mode": {
    "name": "ipython",
    "version": 2
   },
   "file_extension": ".py",
   "mimetype": "text/x-python",
   "name": "python",
   "nbconvert_exporter": "python",
   "pygments_lexer": "ipython2",
   "version": "2.7.13"
  }
 },
 "nbformat": 4,
 "nbformat_minor": 2
}
